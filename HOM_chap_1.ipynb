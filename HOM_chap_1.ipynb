{
  "nbformat": 4,
  "nbformat_minor": 0,
  "metadata": {
    "colab": {
      "name": "HOM_chap_1.ipynb",
      "provenance": [],
      "authorship_tag": "ABX9TyPV1oDYbHdGcuvMcDL3KPpe",
      "include_colab_link": true
    },
    "kernelspec": {
      "name": "python3",
      "display_name": "Python 3"
    }
  },
  "cells": [
    {
      "cell_type": "markdown",
      "metadata": {
        "id": "view-in-github",
        "colab_type": "text"
      },
      "source": [
        "<a href=\"https://colab.research.google.com/github/kongenikhil/Kaggle_DataSet_Files/blob/master/HOM_chap_1.ipynb\" target=\"_parent\"><img src=\"https://colab.research.google.com/assets/colab-badge.svg\" alt=\"Open In Colab\"/></a>"
      ]
    },
    {
      "cell_type": "markdown",
      "metadata": {
        "id": "L8L75S-oCr4I"
      },
      "source": [
        "# Problem Definition : \n",
        "\n",
        "Predict Housing Prices based on the California Housing Dataset "
      ]
    },
    {
      "cell_type": "markdown",
      "metadata": {
        "id": "SjLVfQF_FNW1"
      },
      "source": [
        "# Dowloading Data "
      ]
    },
    {
      "cell_type": "code",
      "metadata": {
        "id": "bVKNXeL7CgIe"
      },
      "source": [
        "# funtion to fetch the data \n",
        "import os\n",
        "import tarfile\n",
        "from six.moves import urllib\n",
        "\n",
        "DOWNLOAD_ROOT = \"https://raw.githubusercontent.com/ageron/handson-ml/master/\"\n",
        "HOUSING_PATH = os.path.join(\"datasets\", \"housing\")\n",
        "HOUSING_URL = DOWNLOAD_ROOT + \"datasets/housing/housing.tgz\"\n",
        "\n",
        "def fetch_housing_data(housing_url=HOUSING_URL, housing_path=HOUSING_PATH):\n",
        "    if not os.path.isdir(housing_path):\n",
        "        os.makedirs(housing_path)\n",
        "    tgz_path = os.path.join(housing_path, \"housing.tgz\")\n",
        "    urllib.request.urlretrieve(housing_url, tgz_path)\n",
        "    housing_tgz = tarfile.open(tgz_path)\n",
        "    housing_tgz.extractall(path=housing_path)\n",
        "    housing_tgz.close()\n",
        "\n",
        "fetch_housing_data()"
      ],
      "execution_count": 38,
      "outputs": []
    },
    {
      "cell_type": "code",
      "metadata": {
        "id": "9utze29qP6Oe"
      },
      "source": [
        ""
      ],
      "execution_count": null,
      "outputs": []
    },
    {
      "cell_type": "markdown",
      "metadata": {
        "id": "-TmLGLu8CpXe"
      },
      "source": [
        "Data Exploration and Preprocessing :"
      ]
    },
    {
      "cell_type": "code",
      "metadata": {
        "id": "l4bTQZF7FPn2"
      },
      "source": [
        "import pandas as pd\n",
        "import matplotlib.pyplot as plt\n",
        "import seaborn as sns\n",
        "import numpy as np"
      ],
      "execution_count": null,
      "outputs": []
    },
    {
      "cell_type": "code",
      "metadata": {
        "id": "LrNZ9_fKIRHy",
        "outputId": "7ec2f517-b320-41e0-fe0c-4af2bcaf389d",
        "colab": {
          "base_uri": "https://localhost:8080/"
        }
      },
      "source": [
        "file_path = os.path.join(HOUSING_PATH,'housing.csv')\n",
        "housing = pd.read_csv(file_path)\n",
        "housing.head()"
      ],
      "execution_count": null,
      "outputs": [
        {
          "output_type": "execute_result",
          "data": {
            "text/html": [
              "<div>\n",
              "<style scoped>\n",
              "    .dataframe tbody tr th:only-of-type {\n",
              "        vertical-align: middle;\n",
              "    }\n",
              "\n",
              "    .dataframe tbody tr th {\n",
              "        vertical-align: top;\n",
              "    }\n",
              "\n",
              "    .dataframe thead th {\n",
              "        text-align: right;\n",
              "    }\n",
              "</style>\n",
              "<table border=\"1\" class=\"dataframe\">\n",
              "  <thead>\n",
              "    <tr style=\"text-align: right;\">\n",
              "      <th></th>\n",
              "      <th>longitude</th>\n",
              "      <th>latitude</th>\n",
              "      <th>housing_median_age</th>\n",
              "      <th>total_rooms</th>\n",
              "      <th>total_bedrooms</th>\n",
              "      <th>population</th>\n",
              "      <th>households</th>\n",
              "      <th>median_income</th>\n",
              "      <th>median_house_value</th>\n",
              "      <th>ocean_proximity</th>\n",
              "    </tr>\n",
              "  </thead>\n",
              "  <tbody>\n",
              "    <tr>\n",
              "      <th>0</th>\n",
              "      <td>-122.23</td>\n",
              "      <td>37.88</td>\n",
              "      <td>41.0</td>\n",
              "      <td>880.0</td>\n",
              "      <td>129.0</td>\n",
              "      <td>322.0</td>\n",
              "      <td>126.0</td>\n",
              "      <td>8.3252</td>\n",
              "      <td>452600.0</td>\n",
              "      <td>NEAR BAY</td>\n",
              "    </tr>\n",
              "    <tr>\n",
              "      <th>1</th>\n",
              "      <td>-122.22</td>\n",
              "      <td>37.86</td>\n",
              "      <td>21.0</td>\n",
              "      <td>7099.0</td>\n",
              "      <td>1106.0</td>\n",
              "      <td>2401.0</td>\n",
              "      <td>1138.0</td>\n",
              "      <td>8.3014</td>\n",
              "      <td>358500.0</td>\n",
              "      <td>NEAR BAY</td>\n",
              "    </tr>\n",
              "    <tr>\n",
              "      <th>2</th>\n",
              "      <td>-122.24</td>\n",
              "      <td>37.85</td>\n",
              "      <td>52.0</td>\n",
              "      <td>1467.0</td>\n",
              "      <td>190.0</td>\n",
              "      <td>496.0</td>\n",
              "      <td>177.0</td>\n",
              "      <td>7.2574</td>\n",
              "      <td>352100.0</td>\n",
              "      <td>NEAR BAY</td>\n",
              "    </tr>\n",
              "    <tr>\n",
              "      <th>3</th>\n",
              "      <td>-122.25</td>\n",
              "      <td>37.85</td>\n",
              "      <td>52.0</td>\n",
              "      <td>1274.0</td>\n",
              "      <td>235.0</td>\n",
              "      <td>558.0</td>\n",
              "      <td>219.0</td>\n",
              "      <td>5.6431</td>\n",
              "      <td>341300.0</td>\n",
              "      <td>NEAR BAY</td>\n",
              "    </tr>\n",
              "    <tr>\n",
              "      <th>4</th>\n",
              "      <td>-122.25</td>\n",
              "      <td>37.85</td>\n",
              "      <td>52.0</td>\n",
              "      <td>1627.0</td>\n",
              "      <td>280.0</td>\n",
              "      <td>565.0</td>\n",
              "      <td>259.0</td>\n",
              "      <td>3.8462</td>\n",
              "      <td>342200.0</td>\n",
              "      <td>NEAR BAY</td>\n",
              "    </tr>\n",
              "  </tbody>\n",
              "</table>\n",
              "</div>"
            ],
            "text/plain": [
              "   longitude  latitude  ...  median_house_value  ocean_proximity\n",
              "0    -122.23     37.88  ...            452600.0         NEAR BAY\n",
              "1    -122.22     37.86  ...            358500.0         NEAR BAY\n",
              "2    -122.24     37.85  ...            352100.0         NEAR BAY\n",
              "3    -122.25     37.85  ...            341300.0         NEAR BAY\n",
              "4    -122.25     37.85  ...            342200.0         NEAR BAY\n",
              "\n",
              "[5 rows x 10 columns]"
            ]
          },
          "metadata": {
            "tags": []
          },
          "execution_count": 10
        }
      ]
    },
    {
      "cell_type": "code",
      "metadata": {
        "id": "HXx9zDuNIt8p",
        "outputId": "564c0826-0e24-41a4-a416-7bb7195ef978",
        "colab": {
          "base_uri": "https://localhost:8080/"
        }
      },
      "source": [
        "housing.info()"
      ],
      "execution_count": null,
      "outputs": [
        {
          "output_type": "stream",
          "text": [
            "<class 'pandas.core.frame.DataFrame'>\n",
            "RangeIndex: 20640 entries, 0 to 20639\n",
            "Data columns (total 10 columns):\n",
            " #   Column              Non-Null Count  Dtype  \n",
            "---  ------              --------------  -----  \n",
            " 0   longitude           20640 non-null  float64\n",
            " 1   latitude            20640 non-null  float64\n",
            " 2   housing_median_age  20640 non-null  float64\n",
            " 3   total_rooms         20640 non-null  float64\n",
            " 4   total_bedrooms      20433 non-null  float64\n",
            " 5   population          20640 non-null  float64\n",
            " 6   households          20640 non-null  float64\n",
            " 7   median_income       20640 non-null  float64\n",
            " 8   median_house_value  20640 non-null  float64\n",
            " 9   ocean_proximity     20640 non-null  object \n",
            "dtypes: float64(9), object(1)\n",
            "memory usage: 1.6+ MB\n"
          ],
          "name": "stdout"
        }
      ]
    },
    {
      "cell_type": "code",
      "metadata": {
        "id": "C5yUzOLGJATf",
        "outputId": "88471590-79db-4d30-b9d1-05d2a48bb8d6",
        "colab": {
          "base_uri": "https://localhost:8080/"
        }
      },
      "source": [
        "housing.hist(bins=50,figsize=(20,15))"
      ],
      "execution_count": null,
      "outputs": [
        {
          "output_type": "execute_result",
          "data": {
            "text/plain": [
              "array([[<matplotlib.axes._subplots.AxesSubplot object at 0x7fba4c985908>,\n",
              "        <matplotlib.axes._subplots.AxesSubplot object at 0x7fba4c95fba8>,\n",
              "        <matplotlib.axes._subplots.AxesSubplot object at 0x7fba4c912e10>],\n",
              "       [<matplotlib.axes._subplots.AxesSubplot object at 0x7fba4c8c4908>,\n",
              "        <matplotlib.axes._subplots.AxesSubplot object at 0x7fba4c872b70>,\n",
              "        <matplotlib.axes._subplots.AxesSubplot object at 0x7fba4c824dd8>],\n",
              "       [<matplotlib.axes._subplots.AxesSubplot object at 0x7fba4c85f048>,\n",
              "        <matplotlib.axes._subplots.AxesSubplot object at 0x7fba4c8112b0>,\n",
              "        <matplotlib.axes._subplots.AxesSubplot object at 0x7fba4c811320>]],\n",
              "      dtype=object)"
            ]
          },
          "metadata": {
            "tags": []
          },
          "execution_count": 12
        },
        {
          "output_type": "display_data",
          "data": {
            "image/png": "[encoded data removed]",
            "text/plain": [
              "<Figure size 1440x1080 with 9 Axes>"
            ]
          },
          "metadata": {
            "tags": [],
            "needs_background": "light"
          }
        }
      ]
    },
    {
      "cell_type": "code",
      "metadata": {
        "id": "45wfw-jCJqtk"
      },
      "source": [
        "# splitting the data-set\n",
        "from sklearn.model_selection import train_test_split\n",
        "\n",
        "train_set , test_set = train_test_split(housing,test_size=0.2,random_state=42)"
      ],
      "execution_count": null,
      "outputs": []
    },
    {
      "cell_type": "code",
      "metadata": {
        "id": "xISYEbSmLic8",
        "outputId": "e023ede9-aa58-4607-da80-58f761ee3cd7",
        "colab": {
          "base_uri": "https://localhost:8080/"
        }
      },
      "source": [
        "# Categorizing the median income as important parameter , and can be analzed better by ccategorizing it \n",
        "\n",
        "housing['income_cat'] = np.ceil(housing['median_income']/1.5)\n",
        "housing['income_cat'].where(housing['income_cat'] < 5 , 5.0 , inplace=True)\n",
        "housing['income_cat'].hist()"
      ],
      "execution_count": null,
      "outputs": [
        {
          "output_type": "execute_result",
          "data": {
            "text/plain": [
              "<matplotlib.axes._subplots.AxesSubplot at 0x7fba4a04fb38>"
            ]
          },
          "metadata": {
            "tags": []
          },
          "execution_count": 14
        },
        {
          "output_type": "display_data",
          "data": {
            "image/png": "[encoded data removed]",
            "text/plain": [
              "<Figure size 432x288 with 1 Axes>"
            ]
          },
          "metadata": {
            "tags": [],
            "needs_background": "light"
          }
        }
      ]
    },
    {
      "cell_type": "code",
      "metadata": {
        "id": "ScwpDp7XPVUh"
      },
      "source": [
        "# We use stratified sampling to get an balanced sample ( to avoid any sampling bias)\n",
        "from sklearn.model_selection import StratifiedShuffleSplit \n",
        "split = StratifiedShuffleSplit(n_splits=1,test_size=0.2,random_state=42)\n",
        "for train_index,test_index in split.split(housing,housing['income_cat']) :\n",
        "  strat_train_set = housing.loc[train_index]\n",
        "  strat_test_set  = housing.loc[test_index]\n",
        "\n",
        "# strat_test_set, strat_train_set are the respective test ad train sets "
      ],
      "execution_count": null,
      "outputs": []
    },
    {
      "cell_type": "code",
      "metadata": {
        "id": "YQBRWzovQbAw",
        "outputId": "51523dbc-1c30-4cca-f524-f6216c556525",
        "colab": {
          "base_uri": "https://localhost:8080/"
        }
      },
      "source": [
        "housing['income_cat'].value_counts() / len(housing) * 100"
      ],
      "execution_count": null,
      "outputs": [
        {
          "output_type": "execute_result",
          "data": {
            "text/plain": [
              "3.0    35.058140\n",
              "2.0    31.884690\n",
              "4.0    17.630814\n",
              "5.0    11.443798\n",
              "1.0     3.982558\n",
              "Name: income_cat, dtype: float64"
            ]
          },
          "metadata": {
            "tags": []
          },
          "execution_count": 16
        }
      ]
    },
    {
      "cell_type": "code",
      "metadata": {
        "id": "K7UB6MESRToZ",
        "outputId": "2a5c43fa-322f-4e82-ffc7-388b6ac7bfb4",
        "colab": {
          "base_uri": "https://localhost:8080/"
        }
      },
      "source": [
        "strat_train_set['income_cat'].value_counts() / len(strat_train_set) * 100"
      ],
      "execution_count": null,
      "outputs": [
        {
          "output_type": "execute_result",
          "data": {
            "text/plain": [
              "3.0    35.059351\n",
              "2.0    31.885901\n",
              "4.0    17.629603\n",
              "5.0    11.440165\n",
              "1.0     3.984981\n",
              "Name: income_cat, dtype: float64"
            ]
          },
          "metadata": {
            "tags": []
          },
          "execution_count": 17
        }
      ]
    },
    {
      "cell_type": "code",
      "metadata": {
        "id": "BPeGxUbDRbVl",
        "outputId": "ee2a2a12-ab23-44dd-ea5a-10a845f31a1e",
        "colab": {
          "base_uri": "https://localhost:8080/"
        }
      },
      "source": [
        "strat_test_set['income_cat'].value_counts() / len(strat_test_set) * 100"
      ],
      "execution_count": null,
      "outputs": [
        {
          "output_type": "execute_result",
          "data": {
            "text/plain": [
              "3.0    35.053295\n",
              "2.0    31.879845\n",
              "4.0    17.635659\n",
              "5.0    11.458333\n",
              "1.0     3.972868\n",
              "Name: income_cat, dtype: float64"
            ]
          },
          "metadata": {
            "tags": []
          },
          "execution_count": 18
        }
      ]
    },
    {
      "cell_type": "code",
      "metadata": {
        "id": "cTjpTW15RmK_"
      },
      "source": [
        "# Stratified  sampling are used to produce test and train data that are representative of the original dataset\n",
        "# its basically balacing the test set "
      ],
      "execution_count": null,
      "outputs": []
    },
    {
      "cell_type": "code",
      "metadata": {
        "id": "bjfl8YJeR1_T"
      },
      "source": [
        "housing_train = strat_train_set.copy()"
      ],
      "execution_count": null,
      "outputs": []
    },
    {
      "cell_type": "code",
      "metadata": {
        "id": "oscyb3n_SCiU",
        "outputId": "c6531339-966b-4571-f771-9b531c1ab96a",
        "colab": {
          "base_uri": "https://localhost:8080/"
        }
      },
      "source": [
        "housing.plot(kind='scatter',x='longitude',y='latitude',alpha=0.4,\n",
        "             s=housing['population']/100,label='population',\n",
        "             figsize=(10,7),\n",
        "             cmap=plt.get_cmap('jet'),colorbar=True,)\n",
        "# the alpha parameter gives us the plot density variation"
      ],
      "execution_count": null,
      "outputs": [
        {
          "output_type": "execute_result",
          "data": {
            "text/plain": [
              "<matplotlib.axes._subplots.AxesSubplot at 0x7fba48d69fd0>"
            ]
          },
          "metadata": {
            "tags": []
          },
          "execution_count": 21
        },
        {
          "output_type": "display_data",
          "data": {
            "image/png": "[encoded data removed]",
            "text/plain": [
              "<Figure size 720x504 with 2 Axes>"
            ]
          },
          "metadata": {
            "tags": [],
            "needs_background": "light"
          }
        }
      ]
    },
    {
      "cell_type": "code",
      "metadata": {
        "id": "lMGbDU8oSKzr",
        "outputId": "3283e30b-a66e-4317-cc68-b31c7859aeed",
        "colab": {
          "base_uri": "https://localhost:8080/"
        }
      },
      "source": [
        "# Lets Check the correlation matrix \n",
        "corr_matrix = housing.corr()\n",
        "corr_matrix['median_house_value'].sort_values(ascending=False)"
      ],
      "execution_count": null,
      "outputs": [
        {
          "output_type": "execute_result",
          "data": {
            "text/plain": [
              "median_house_value    1.000000\n",
              "median_income         0.688075\n",
              "income_cat            0.643892\n",
              "total_rooms           0.134153\n",
              "housing_median_age    0.105623\n",
              "households            0.065843\n",
              "total_bedrooms        0.049686\n",
              "population           -0.024650\n",
              "longitude            -0.045967\n",
              "latitude             -0.144160\n",
              "Name: median_house_value, dtype: float64"
            ]
          },
          "metadata": {
            "tags": []
          },
          "execution_count": 22
        }
      ]
    },
    {
      "cell_type": "code",
      "metadata": {
        "id": "-KUdRqKqWEOt"
      },
      "source": [
        "# creating new columns based on inituition \n",
        "housing['rooms_per_household'] = housing['total_rooms'] / housing['households']\n",
        "housing['bedrooms_per_room']   = housing['total_bedrooms'] / housing['total_rooms']\n",
        "housing['population_per_household'] = housing['population'] / housing['households']"
      ],
      "execution_count": null,
      "outputs": []
    },
    {
      "cell_type": "code",
      "metadata": {
        "id": "AdLYdXiMWoEE",
        "outputId": "aedd8427-bab1-4143-bb60-130875f3cb83",
        "colab": {
          "base_uri": "https://localhost:8080/"
        }
      },
      "source": [
        "corr_matrix = housing.corr()\n",
        "corr_matrix['median_house_value'].sort_values(ascending=False)"
      ],
      "execution_count": null,
      "outputs": [
        {
          "output_type": "execute_result",
          "data": {
            "text/plain": [
              "median_house_value          1.000000\n",
              "median_income               0.688075\n",
              "income_cat                  0.643892\n",
              "rooms_per_household         0.151948\n",
              "total_rooms                 0.134153\n",
              "housing_median_age          0.105623\n",
              "households                  0.065843\n",
              "total_bedrooms              0.049686\n",
              "population_per_household   -0.023737\n",
              "population                 -0.024650\n",
              "longitude                  -0.045967\n",
              "latitude                   -0.144160\n",
              "bedrooms_per_room          -0.255880\n",
              "Name: median_house_value, dtype: float64"
            ]
          },
          "metadata": {
            "tags": []
          },
          "execution_count": 24
        }
      ]
    },
    {
      "cell_type": "markdown",
      "metadata": {
        "id": "Txwe4G9MXM_v"
      },
      "source": [
        "Note : Always write fuctions when cleaning data , as they can be reused multiple times in other projects or on new data \n"
      ]
    },
    {
      "cell_type": "code",
      "metadata": {
        "id": "fXWryk7zXMcu"
      },
      "source": [
        "housing = strat_train_set.drop('median_house_value',axis=1)\n",
        "housing_labels = strat_test_set['median_house_value'].copy()"
      ],
      "execution_count": null,
      "outputs": []
    },
    {
      "cell_type": "code",
      "metadata": {
        "id": "VUod7BTyX6Ny"
      },
      "source": [
        "# Data Cleaning 1. Remove missing values \n",
        "# We can either drop the value or impute it , we drop the attribute of the missing values are too high \n",
        "# Here we impute it with median \n",
        "\n",
        "from sklearn.impute import SimpleImputer \n",
        "imputer = SimpleImputer(missing_values=np.nan,strategy=\"median\")\n",
        "\n",
        "# Now  We impute he entire numerical data of the dataset with median \n",
        "housing_num = housing.drop('ocean_proximity',axis=1)\n",
        "X = imputer.fit_transform(housing_num)"
      ],
      "execution_count": null,
      "outputs": []
    },
    {
      "cell_type": "code",
      "metadata": {
        "id": "4ituHdYLaXZH",
        "outputId": "0e45db7b-ad3d-4896-96df-0f878d2ebacd",
        "colab": {
          "base_uri": "https://localhost:8080/"
        }
      },
      "source": [
        "# X is a numpy array \n",
        "housing_tr = pd.DataFrame(X,columns=housing_num.columns)\n",
        "housing_tr.head()"
      ],
      "execution_count": null,
      "outputs": [
        {
          "output_type": "execute_result",
          "data": {
            "text/html": [
              "<div>\n",
              "<style scoped>\n",
              "    .dataframe tbody tr th:only-of-type {\n",
              "        vertical-align: middle;\n",
              "    }\n",
              "\n",
              "    .dataframe tbody tr th {\n",
              "        vertical-align: top;\n",
              "    }\n",
              "\n",
              "    .dataframe thead th {\n",
              "        text-align: right;\n",
              "    }\n",
              "</style>\n",
              "<table border=\"1\" class=\"dataframe\">\n",
              "  <thead>\n",
              "    <tr style=\"text-align: right;\">\n",
              "      <th></th>\n",
              "      <th>longitude</th>\n",
              "      <th>latitude</th>\n",
              "      <th>housing_median_age</th>\n",
              "      <th>total_rooms</th>\n",
              "      <th>total_bedrooms</th>\n",
              "      <th>population</th>\n",
              "      <th>households</th>\n",
              "      <th>median_income</th>\n",
              "      <th>income_cat</th>\n",
              "    </tr>\n",
              "  </thead>\n",
              "  <tbody>\n",
              "    <tr>\n",
              "      <th>0</th>\n",
              "      <td>-121.89</td>\n",
              "      <td>37.29</td>\n",
              "      <td>38.0</td>\n",
              "      <td>1568.0</td>\n",
              "      <td>351.0</td>\n",
              "      <td>710.0</td>\n",
              "      <td>339.0</td>\n",
              "      <td>2.7042</td>\n",
              "      <td>2.0</td>\n",
              "    </tr>\n",
              "    <tr>\n",
              "      <th>1</th>\n",
              "      <td>-121.93</td>\n",
              "      <td>37.05</td>\n",
              "      <td>14.0</td>\n",
              "      <td>679.0</td>\n",
              "      <td>108.0</td>\n",
              "      <td>306.0</td>\n",
              "      <td>113.0</td>\n",
              "      <td>6.4214</td>\n",
              "      <td>5.0</td>\n",
              "    </tr>\n",
              "    <tr>\n",
              "      <th>2</th>\n",
              "      <td>-117.20</td>\n",
              "      <td>32.77</td>\n",
              "      <td>31.0</td>\n",
              "      <td>1952.0</td>\n",
              "      <td>471.0</td>\n",
              "      <td>936.0</td>\n",
              "      <td>462.0</td>\n",
              "      <td>2.8621</td>\n",
              "      <td>2.0</td>\n",
              "    </tr>\n",
              "    <tr>\n",
              "      <th>3</th>\n",
              "      <td>-119.61</td>\n",
              "      <td>36.31</td>\n",
              "      <td>25.0</td>\n",
              "      <td>1847.0</td>\n",
              "      <td>371.0</td>\n",
              "      <td>1460.0</td>\n",
              "      <td>353.0</td>\n",
              "      <td>1.8839</td>\n",
              "      <td>2.0</td>\n",
              "    </tr>\n",
              "    <tr>\n",
              "      <th>4</th>\n",
              "      <td>-118.59</td>\n",
              "      <td>34.23</td>\n",
              "      <td>17.0</td>\n",
              "      <td>6592.0</td>\n",
              "      <td>1525.0</td>\n",
              "      <td>4459.0</td>\n",
              "      <td>1463.0</td>\n",
              "      <td>3.0347</td>\n",
              "      <td>3.0</td>\n",
              "    </tr>\n",
              "  </tbody>\n",
              "</table>\n",
              "</div>"
            ],
            "text/plain": [
              "   longitude  latitude  ...  median_income  income_cat\n",
              "0    -121.89     37.29  ...         2.7042         2.0\n",
              "1    -121.93     37.05  ...         6.4214         5.0\n",
              "2    -117.20     32.77  ...         2.8621         2.0\n",
              "3    -119.61     36.31  ...         1.8839         2.0\n",
              "4    -118.59     34.23  ...         3.0347         3.0\n",
              "\n",
              "[5 rows x 9 columns]"
            ]
          },
          "metadata": {
            "tags": []
          },
          "execution_count": 27
        }
      ]
    },
    {
      "cell_type": "code",
      "metadata": {
        "id": "t_7zexEWa8aZ",
        "outputId": "34a5450a-3f85-40f7-a6ad-92a8b36ffe29",
        "colab": {
          "base_uri": "https://localhost:8080/"
        }
      },
      "source": [
        "# Handling Text Data \n",
        "from sklearn.preprocessing import LabelEncoder\n",
        "encoder = LabelEncoder()\n",
        "housing_cat = housing['ocean_proximity']\n",
        "housing_cat_encoded = encoder.fit_transform(housing_cat)\n",
        "print(housing_cat_encoded)\n",
        "print('The mapping of data is  {}'.format(encoder.classes_))\n"
      ],
      "execution_count": null,
      "outputs": [
        {
          "output_type": "stream",
          "text": [
            "[0 0 4 ... 1 0 3]\n",
            "The mapping of data is  ['<1H OCEAN' 'INLAND' 'ISLAND' 'NEAR BAY' 'NEAR OCEAN']\n"
          ],
          "name": "stdout"
        }
      ]
    },
    {
      "cell_type": "markdown",
      "metadata": {
        "id": "UBA5EP7Nb8uI"
      },
      "source": [
        "Label Encoder is suitable for mostly binary values , because for the ML algorithm the Label encoder denoted categories by integers 1,2,3,4,5 etc \n",
        "This give the ML algorithm an impression that the values at 1 & 5 are very different from 1 & 2 . This however is usually not the case.\n",
        "\n",
        "To solve this we implement one hot encoding , where each type of categorical datum gets its values as one "
      ]
    },
    {
      "cell_type": "code",
      "metadata": {
        "id": "NcJ80tQ_bZnw",
        "outputId": "1e80ef08-90be-4ebe-a2ac-ddabfe53d6f0",
        "colab": {
          "base_uri": "https://localhost:8080/"
        }
      },
      "source": [
        "from sklearn.preprocessing import OneHotEncoder,LabelBinarizer\n",
        "encoder = OneHotEncoder()\n",
        "housing_cat_1hot = encoder.fit_transform(housing_cat_encoded.reshape(-1,1))\n",
        "# print('The output is a sparse matrix and NOT a numpy array {}'.format(housing_cat_1hot))\n",
        "#  TO convert into one hot encoded array we can use 'to_array' function\n",
        "print('One hot encoded array {}'.format(housing_cat_1hot.toarray()))"
      ],
      "execution_count": null,
      "outputs": [
        {
          "output_type": "stream",
          "text": [
            "One hot encoded array [[1. 0. 0. 0. 0.]\n",
            " [1. 0. 0. 0. 0.]\n",
            " [0. 0. 0. 0. 1.]\n",
            " ...\n",
            " [0. 1. 0. 0. 0.]\n",
            " [1. 0. 0. 0. 0.]\n",
            " [0. 0. 0. 1. 0.]]\n"
          ],
          "name": "stdout"
        }
      ]
    },
    {
      "cell_type": "code",
      "metadata": {
        "id": "0UAOmxzrdH4i"
      },
      "source": [
        "# Also a direct dummy array can be obtained by using LABELBINARIZER feature in sklearn "
      ],
      "execution_count": null,
      "outputs": []
    },
    {
      "cell_type": "markdown",
      "metadata": {
        "id": "F2sniHw3pR0p"
      },
      "source": [
        "## Custom Transformers "
      ]
    },
    {
      "cell_type": "code",
      "metadata": {
        "id": "gWK5-ErepVWD"
      },
      "source": [
        "# creating my own transformers\n",
        "from sklearn.base import BaseEstimator ,TransformerMixin\n",
        "rooms_ix, bedrooms_ix , population_ix , household_ix = 3,4,5,6\n",
        "\n",
        "class CombinedAttributesAdder(BaseEstimator,TransformerMixin) :\n",
        "  def __init__ (self,add_bedrooms_per_room = True) :\n",
        "    self.add_bedrooms_per_room = add_bedrooms_per_room\n",
        "  def fit(self,X,y=None) :\n",
        "    return self\n",
        "  def transform(self,X,y=None) :\n",
        "    rooms_per_household = X[:,rooms_ix] / X[:, household_ix]\n",
        "    population_per_household = X[:,population_ix] / X[:,household_ix]\n",
        "    if self.add_bedrooms_per_room :\n",
        "      bed_rooms_per_room = X[:,bedrooms_ix] / X[:,rooms_ix]\n",
        "      return np.c_[X,rooms_per_household,population_per_household\n",
        "                   ,bed_rooms_per_room]\n",
        "    else :\n",
        "      return np.c_[X,rooms_per_household,population_per_household]\n",
        "\n",
        "attr_adder = CombinedAttributesAdder(add_bedrooms_per_room=False)\n",
        "housing_extra_attribs = attr_adder.transform(housing.values) "
      ],
      "execution_count": null,
      "outputs": []
    },
    {
      "cell_type": "code",
      "metadata": {
        "id": "uFXnPGUOqt_0",
        "outputId": "f6fe841b-28a9-4c24-c062-0bf3188ca861",
        "colab": {
          "base_uri": "https://localhost:8080/"
        }
      },
      "source": [
        "housing_extra_attribs"
      ],
      "execution_count": null,
      "outputs": [
        {
          "output_type": "execute_result",
          "data": {
            "text/plain": [
              "array([[-121.89, 37.29, 38.0, ..., 2.0, 4.625368731563422,\n",
              "        2.094395280235988],\n",
              "       [-121.93, 37.05, 14.0, ..., 5.0, 6.008849557522124,\n",
              "        2.7079646017699117],\n",
              "       [-117.2, 32.77, 31.0, ..., 2.0, 4.225108225108225,\n",
              "        2.0259740259740258],\n",
              "       ...,\n",
              "       [-116.4, 34.09, 9.0, ..., 3.0, 6.34640522875817,\n",
              "        2.742483660130719],\n",
              "       [-118.01, 33.82, 31.0, ..., 3.0, 5.50561797752809,\n",
              "        3.808988764044944],\n",
              "       [-122.45, 37.77, 52.0, ..., 3.0, 4.843505477308295,\n",
              "        1.9859154929577465]], dtype=object)"
            ]
          },
          "metadata": {
            "tags": []
          },
          "execution_count": 32
        }
      ]
    },
    {
      "cell_type": "markdown",
      "metadata": {
        "id": "mFEmN0Acx1sm"
      },
      "source": [
        "# Data Transformation Pipeline"
      ]
    },
    {
      "cell_type": "code",
      "metadata": {
        "id": "gYTvQrjnx0bG"
      },
      "source": [
        "from sklearn.pipeline import Pipeline\n",
        "from sklearn.preprocessing import StandardScaler\n",
        "\n",
        "num_pipeline = Pipeline([\n",
        "                         \n",
        "                         ('imputer',SimpleImputer(strategy='median')),\n",
        "                         ('attribs_adder',CombinedAttributesAdder()),\n",
        "                         ('std_scaler',StandardScaler()),\n",
        "])"
      ],
      "execution_count": null,
      "outputs": []
    },
    {
      "cell_type": "code",
      "metadata": {
        "id": "HrOeuSE6zRsa"
      },
      "source": [
        "hosing_num_tr = num_pipeline.fit_transform(housing_num)\n"
      ],
      "execution_count": null,
      "outputs": []
    },
    {
      "cell_type": "code",
      "metadata": {
        "id": "mhTa7Sklz6c1"
      },
      "source": [
        "from sklearn.base import BaseEstimator , TransformerMixin\n",
        "\n",
        "class DataFrameSelector(BaseEstimator,TransformerMixin) :\n",
        "    def __init__ (self,attribute_names) :\n",
        "      self.attribute_names = attribute_names\n",
        "    def fit(self,X,y=None) :\n",
        "      return self\n",
        "    def transform(self,X) :\n",
        "      return X[self.attribute_names].values\n"
      ],
      "execution_count": null,
      "outputs": []
    },
    {
      "cell_type": "code",
      "metadata": {
        "id": "aPchTGY93AJN"
      },
      "source": [
        "from sklearn_pandas import DataFrameMapper\n",
        "\n",
        "# For a categorical data- type \n",
        "num_attributes = list(housing_num)\n",
        "cat_attributes = ['ocean_proximity']\n",
        "num_pipeline = Pipeline([\n",
        "                         ('selector',DataFrameSelector(num_attributes)),\n",
        "                         ('imputer',SimpleImputer(strategy='median')),\n",
        "                         ('attribs_adder',CombinedAttributesAdder()),\n",
        "                         ('std_scaler',StandardScaler()),\n",
        "])\n",
        "# pipeline for categorical datatypes\n",
        "cat_pipeline = Pipeline([\n",
        "                         ('selector',DataFrameSelector(cat_attributes)),\n",
        "                         ('one_hot_encoder',OneHotEncoder(sparse=False))\n",
        "])\n",
        "# Joining the above two pipelines to form a single feauture ( i.e the output would contain both the outputs from both the pipelines)\n"
      ],
      "execution_count": null,
      "outputs": []
    },
    {
      "cell_type": "code",
      "metadata": {
        "id": "TLmTUloE4crZ"
      },
      "source": [
        "from sklearn.pipeline import FeatureUnion \n",
        "full_pipeline = FeatureUnion(transformer_list=[\n",
        "                                               \n",
        "    ('num_pipeline',num_pipeline),\n",
        "    ('cat_pipeline',cat_pipeline)\n",
        "])\n",
        "\n",
        "housing_prepared = full_pipeline.fit_transform(housing)\n",
        "housing_prepared"
      ],
      "execution_count": null,
      "outputs": []
    }
  ]
}